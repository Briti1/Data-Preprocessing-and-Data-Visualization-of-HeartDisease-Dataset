{
 "cells": [
  {
   "cell_type": "markdown",
   "id": "7958ddf3-a3a9-4ea7-bd44-366c258af54d",
   "metadata": {},
   "source": [
    "# Importing the Header Files"
   ]
  },
  {
   "cell_type": "code",
   "execution_count": 664,
   "id": "1951eca3-22f9-4dce-85a2-741d8aa5a319",
   "metadata": {},
   "outputs": [],
   "source": [
    "import numpy as np\n",
    "import pandas as pd\n",
    "import matplotlib.pyplot as plt"
   ]
  },
  {
   "cell_type": "markdown",
   "id": "e102be2e-96a0-4820-87c6-6ab1073df5a2",
   "metadata": {},
   "source": [
    "## 1. Analysis of Dataframe"
   ]
  },
  {
   "cell_type": "markdown",
   "id": "a5c724ec-45b7-417d-8a4a-df9c79d7aa4c",
   "metadata": {},
   "source": [
    "### Importing and reading the dataset into the dataframe"
   ]
  },
  {
   "cell_type": "code",
   "execution_count": 668,
   "id": "30c02c8b-6289-4f0c-8938-21b85e98e121",
   "metadata": {},
   "outputs": [
    {
     "name": "stdout",
     "output_type": "stream",
     "text": [
      "      Unnamed: 0  age     sex  cp  trestbps  chol  fbs  restecg  thalach  \\\n",
      "0              0   52    Male   0       125   212    0        1      168   \n",
      "1              1   53    Male   0       140   203    1        0      155   \n",
      "2              2   70    Male   0       145   174    0        1      125   \n",
      "3              3   61    Male   0       148   203    0        1      161   \n",
      "4              4   62  Female   0       138   294    1        1      106   \n",
      "...          ...  ...     ...  ..       ...   ...  ...      ...      ...   \n",
      "1020        1020   59    Male   1       140   221    0        1      164   \n",
      "1021        1021   60    Male   0       125   258    0        0      141   \n",
      "1022        1022   47    Male   0       110   275    0        0      118   \n",
      "1023        1023   50  Female   0       110   254    0        0      159   \n",
      "1024        1024   54    Male   0       120   188    0        1      113   \n",
      "\n",
      "      exang  oldpeak  slope  ca  thal    target  \n",
      "0         0      1.0      2   2     3   Absence  \n",
      "1         1      3.1      0   0     3   Absence  \n",
      "2         1      2.6      0   0     3   Absence  \n",
      "3         0      0.0      2   1     3   Absence  \n",
      "4         0      1.9      1   3     2   Absence  \n",
      "...     ...      ...    ...  ..   ...       ...  \n",
      "1020      1      0.0      2   0     2  Presence  \n",
      "1021      1      2.8      1   1     3   Absence  \n",
      "1022      1      1.0      1   1     2   Absence  \n",
      "1023      0      0.0      2   0     2  Presence  \n",
      "1024      0      1.4      1   1     3   Absence  \n",
      "\n",
      "[1025 rows x 15 columns]\n"
     ]
    },
    {
     "data": {
      "text/html": [
       "<div>\n",
       "<style scoped>\n",
       "    .dataframe tbody tr th:only-of-type {\n",
       "        vertical-align: middle;\n",
       "    }\n",
       "\n",
       "    .dataframe tbody tr th {\n",
       "        vertical-align: top;\n",
       "    }\n",
       "\n",
       "    .dataframe thead th {\n",
       "        text-align: right;\n",
       "    }\n",
       "</style>\n",
       "<table border=\"1\" class=\"dataframe\">\n",
       "  <thead>\n",
       "    <tr style=\"text-align: right;\">\n",
       "      <th></th>\n",
       "      <th>age</th>\n",
       "      <th>sex</th>\n",
       "      <th>cp</th>\n",
       "      <th>trestbps</th>\n",
       "      <th>chol</th>\n",
       "      <th>fbs</th>\n",
       "      <th>restecg</th>\n",
       "      <th>thalach</th>\n",
       "      <th>exang</th>\n",
       "      <th>oldpeak</th>\n",
       "      <th>slope</th>\n",
       "      <th>ca</th>\n",
       "      <th>thal</th>\n",
       "      <th>target</th>\n",
       "    </tr>\n",
       "  </thead>\n",
       "  <tbody>\n",
       "    <tr>\n",
       "      <th>0</th>\n",
       "      <td>52</td>\n",
       "      <td>Male</td>\n",
       "      <td>0</td>\n",
       "      <td>125</td>\n",
       "      <td>212</td>\n",
       "      <td>0</td>\n",
       "      <td>1</td>\n",
       "      <td>168</td>\n",
       "      <td>0</td>\n",
       "      <td>1.0</td>\n",
       "      <td>2</td>\n",
       "      <td>2</td>\n",
       "      <td>3</td>\n",
       "      <td>Absence</td>\n",
       "    </tr>\n",
       "    <tr>\n",
       "      <th>1</th>\n",
       "      <td>53</td>\n",
       "      <td>Male</td>\n",
       "      <td>0</td>\n",
       "      <td>140</td>\n",
       "      <td>203</td>\n",
       "      <td>1</td>\n",
       "      <td>0</td>\n",
       "      <td>155</td>\n",
       "      <td>1</td>\n",
       "      <td>3.1</td>\n",
       "      <td>0</td>\n",
       "      <td>0</td>\n",
       "      <td>3</td>\n",
       "      <td>Absence</td>\n",
       "    </tr>\n",
       "    <tr>\n",
       "      <th>2</th>\n",
       "      <td>70</td>\n",
       "      <td>Male</td>\n",
       "      <td>0</td>\n",
       "      <td>145</td>\n",
       "      <td>174</td>\n",
       "      <td>0</td>\n",
       "      <td>1</td>\n",
       "      <td>125</td>\n",
       "      <td>1</td>\n",
       "      <td>2.6</td>\n",
       "      <td>0</td>\n",
       "      <td>0</td>\n",
       "      <td>3</td>\n",
       "      <td>Absence</td>\n",
       "    </tr>\n",
       "    <tr>\n",
       "      <th>3</th>\n",
       "      <td>61</td>\n",
       "      <td>Male</td>\n",
       "      <td>0</td>\n",
       "      <td>148</td>\n",
       "      <td>203</td>\n",
       "      <td>0</td>\n",
       "      <td>1</td>\n",
       "      <td>161</td>\n",
       "      <td>0</td>\n",
       "      <td>0.0</td>\n",
       "      <td>2</td>\n",
       "      <td>1</td>\n",
       "      <td>3</td>\n",
       "      <td>Absence</td>\n",
       "    </tr>\n",
       "    <tr>\n",
       "      <th>4</th>\n",
       "      <td>62</td>\n",
       "      <td>Female</td>\n",
       "      <td>0</td>\n",
       "      <td>138</td>\n",
       "      <td>294</td>\n",
       "      <td>1</td>\n",
       "      <td>1</td>\n",
       "      <td>106</td>\n",
       "      <td>0</td>\n",
       "      <td>1.9</td>\n",
       "      <td>1</td>\n",
       "      <td>3</td>\n",
       "      <td>2</td>\n",
       "      <td>Absence</td>\n",
       "    </tr>\n",
       "  </tbody>\n",
       "</table>\n",
       "</div>"
      ],
      "text/plain": [
       "   age     sex  cp  trestbps  chol  fbs  restecg  thalach  exang  oldpeak  \\\n",
       "0   52    Male   0       125   212    0        1      168      0      1.0   \n",
       "1   53    Male   0       140   203    1        0      155      1      3.1   \n",
       "2   70    Male   0       145   174    0        1      125      1      2.6   \n",
       "3   61    Male   0       148   203    0        1      161      0      0.0   \n",
       "4   62  Female   0       138   294    1        1      106      0      1.9   \n",
       "\n",
       "   slope  ca  thal   target  \n",
       "0      2   2     3  Absence  \n",
       "1      0   0     3  Absence  \n",
       "2      0   0     3  Absence  \n",
       "3      2   1     3  Absence  \n",
       "4      1   3     2  Absence  "
      ]
     },
     "execution_count": 668,
     "metadata": {},
     "output_type": "execute_result"
    }
   ],
   "source": [
    "dataset = pd.read_csv(\"C:/Users/briti/Downloads/Heartdisease.csv\")\n",
    "\n",
    "#print the dataframe or reading the dataset\n",
    "print(dataset)\n",
    "dataset.drop('Unnamed: 0',axis=1,inplace=True)\n",
    "\n",
    "#using head command.\n",
    "dataset.head(5)\n"
   ]
  },
  {
   "cell_type": "markdown",
   "id": "8b0fb5ea-964e-4238-9207-299a4e44c64a",
   "metadata": {},
   "source": [
    "## 2. Now understanding the dataset "
   ]
  },
  {
   "cell_type": "markdown",
   "id": "0347af4d-ffcc-4fc8-ba8e-4fc3b432302c",
   "metadata": {},
   "source": [
    "### 2.1. Using shape to get nunber of columns and rows in dataset."
   ]
  },
  {
   "cell_type": "code",
   "execution_count": 596,
   "id": "465a27fe-148d-4d2f-8769-339045b31d1d",
   "metadata": {},
   "outputs": [
    {
     "name": "stdout",
     "output_type": "stream",
     "text": [
      "Shape of table is:\n",
      " (1025, 15)\n"
     ]
    }
   ],
   "source": [
    "print(\"Shape of table is:\\n\", dataset.shape)"
   ]
  },
  {
   "cell_type": "markdown",
   "id": "647dfb3b-ab45-4b66-bde9-da4b025d709a",
   "metadata": {},
   "source": [
    "### 2.2 Identifying no of columns"
   ]
  },
  {
   "cell_type": "code",
   "execution_count": 599,
   "id": "47dde991-7c20-4a6e-aba1-c6a1f7a5d0ce",
   "metadata": {},
   "outputs": [
    {
     "name": "stdout",
     "output_type": "stream",
     "text": [
      "\n",
      "Number of columns in dataset is:\n",
      " Index(['Unnamed: 0', 'age', 'sex', 'cp', 'trestbps', 'chol', 'fbs', 'restecg',\n",
      "       'thalach', 'exang', 'oldpeak', 'slope', 'ca', 'thal', 'target'],\n",
      "      dtype='object')\n"
     ]
    }
   ],
   "source": [
    "print(\"\\nNumber of columns in dataset is:\\n\", dataset.columns)"
   ]
  },
  {
   "cell_type": "markdown",
   "id": "10a1a679-ebe8-49bd-adf2-8e3029ee9647",
   "metadata": {},
   "source": [
    "### 2.3 Understanding each column information using info command."
   ]
  },
  {
   "cell_type": "code",
   "execution_count": 601,
   "id": "c42508e3-a6d5-49bc-bffe-105b790b575e",
   "metadata": {},
   "outputs": [
    {
     "name": "stdout",
     "output_type": "stream",
     "text": [
      "\n",
      "Column Information:\n",
      "\n",
      "<class 'pandas.core.frame.DataFrame'>\n",
      "RangeIndex: 1025 entries, 0 to 1024\n",
      "Data columns (total 15 columns):\n",
      " #   Column      Non-Null Count  Dtype  \n",
      "---  ------      --------------  -----  \n",
      " 0   Unnamed: 0  1025 non-null   int64  \n",
      " 1   age         1025 non-null   int64  \n",
      " 2   sex         1025 non-null   object \n",
      " 3   cp          1025 non-null   int64  \n",
      " 4   trestbps    1025 non-null   int64  \n",
      " 5   chol        1025 non-null   int64  \n",
      " 6   fbs         1025 non-null   int64  \n",
      " 7   restecg     1025 non-null   int64  \n",
      " 8   thalach     1025 non-null   int64  \n",
      " 9   exang       1025 non-null   int64  \n",
      " 10  oldpeak     1025 non-null   float64\n",
      " 11  slope       1025 non-null   int64  \n",
      " 12  ca          1025 non-null   int64  \n",
      " 13  thal        1025 non-null   int64  \n",
      " 14  target      1025 non-null   object \n",
      "dtypes: float64(1), int64(12), object(2)\n",
      "memory usage: 120.2+ KB\n"
     ]
    }
   ],
   "source": [
    "print(\"\\nColumn Information:\\n\")\n",
    "dataset.info()"
   ]
  },
  {
   "cell_type": "markdown",
   "id": "edf0d7d0-9011-4138-9ba4-034f0fa98472",
   "metadata": {},
   "source": [
    "### 2.4 Identifying datatypes of each column"
   ]
  },
  {
   "cell_type": "code",
   "execution_count": 603,
   "id": "a7c4be46-eb76-424d-ba9f-7777a34b757a",
   "metadata": {},
   "outputs": [
    {
     "data": {
      "text/plain": [
       "Unnamed: 0      int64\n",
       "age             int64\n",
       "sex            object\n",
       "cp              int64\n",
       "trestbps        int64\n",
       "chol            int64\n",
       "fbs             int64\n",
       "restecg         int64\n",
       "thalach         int64\n",
       "exang           int64\n",
       "oldpeak       float64\n",
       "slope           int64\n",
       "ca              int64\n",
       "thal            int64\n",
       "target         object\n",
       "dtype: object"
      ]
     },
     "execution_count": 603,
     "metadata": {},
     "output_type": "execute_result"
    }
   ],
   "source": [
    "dataset.dtypes"
   ]
  },
  {
   "cell_type": "markdown",
   "id": "dfb9b177-d66f-4275-985d-d7327bd3a013",
   "metadata": {},
   "source": [
    "### 2.5. We can identify the satistical summary of each column using describe."
   ]
  },
  {
   "cell_type": "code",
   "execution_count": 608,
   "id": "bda2f658-4484-4874-a078-330ed1014440",
   "metadata": {},
   "outputs": [
    {
     "data": {
      "text/html": [
       "<div>\n",
       "<style scoped>\n",
       "    .dataframe tbody tr th:only-of-type {\n",
       "        vertical-align: middle;\n",
       "    }\n",
       "\n",
       "    .dataframe tbody tr th {\n",
       "        vertical-align: top;\n",
       "    }\n",
       "\n",
       "    .dataframe thead th {\n",
       "        text-align: right;\n",
       "    }\n",
       "</style>\n",
       "<table border=\"1\" class=\"dataframe\">\n",
       "  <thead>\n",
       "    <tr style=\"text-align: right;\">\n",
       "      <th></th>\n",
       "      <th>Unnamed: 0</th>\n",
       "      <th>age</th>\n",
       "      <th>cp</th>\n",
       "      <th>trestbps</th>\n",
       "      <th>chol</th>\n",
       "      <th>fbs</th>\n",
       "      <th>restecg</th>\n",
       "      <th>thalach</th>\n",
       "      <th>exang</th>\n",
       "      <th>oldpeak</th>\n",
       "      <th>slope</th>\n",
       "      <th>ca</th>\n",
       "      <th>thal</th>\n",
       "    </tr>\n",
       "  </thead>\n",
       "  <tbody>\n",
       "    <tr>\n",
       "      <th>count</th>\n",
       "      <td>1025.000000</td>\n",
       "      <td>1025.000000</td>\n",
       "      <td>1025.000000</td>\n",
       "      <td>1025.000000</td>\n",
       "      <td>1025.00000</td>\n",
       "      <td>1025.000000</td>\n",
       "      <td>1025.000000</td>\n",
       "      <td>1025.000000</td>\n",
       "      <td>1025.000000</td>\n",
       "      <td>1025.000000</td>\n",
       "      <td>1025.000000</td>\n",
       "      <td>1025.000000</td>\n",
       "      <td>1025.000000</td>\n",
       "    </tr>\n",
       "    <tr>\n",
       "      <th>mean</th>\n",
       "      <td>512.000000</td>\n",
       "      <td>54.434146</td>\n",
       "      <td>0.942439</td>\n",
       "      <td>131.611707</td>\n",
       "      <td>246.00000</td>\n",
       "      <td>0.149268</td>\n",
       "      <td>0.529756</td>\n",
       "      <td>149.114146</td>\n",
       "      <td>0.336585</td>\n",
       "      <td>1.071512</td>\n",
       "      <td>1.385366</td>\n",
       "      <td>0.754146</td>\n",
       "      <td>2.323902</td>\n",
       "    </tr>\n",
       "    <tr>\n",
       "      <th>std</th>\n",
       "      <td>296.036315</td>\n",
       "      <td>9.072290</td>\n",
       "      <td>1.029641</td>\n",
       "      <td>17.516718</td>\n",
       "      <td>51.59251</td>\n",
       "      <td>0.356527</td>\n",
       "      <td>0.527878</td>\n",
       "      <td>23.005724</td>\n",
       "      <td>0.472772</td>\n",
       "      <td>1.175053</td>\n",
       "      <td>0.617755</td>\n",
       "      <td>1.030798</td>\n",
       "      <td>0.620660</td>\n",
       "    </tr>\n",
       "    <tr>\n",
       "      <th>min</th>\n",
       "      <td>0.000000</td>\n",
       "      <td>29.000000</td>\n",
       "      <td>0.000000</td>\n",
       "      <td>94.000000</td>\n",
       "      <td>126.00000</td>\n",
       "      <td>0.000000</td>\n",
       "      <td>0.000000</td>\n",
       "      <td>71.000000</td>\n",
       "      <td>0.000000</td>\n",
       "      <td>0.000000</td>\n",
       "      <td>0.000000</td>\n",
       "      <td>0.000000</td>\n",
       "      <td>0.000000</td>\n",
       "    </tr>\n",
       "    <tr>\n",
       "      <th>25%</th>\n",
       "      <td>256.000000</td>\n",
       "      <td>48.000000</td>\n",
       "      <td>0.000000</td>\n",
       "      <td>120.000000</td>\n",
       "      <td>211.00000</td>\n",
       "      <td>0.000000</td>\n",
       "      <td>0.000000</td>\n",
       "      <td>132.000000</td>\n",
       "      <td>0.000000</td>\n",
       "      <td>0.000000</td>\n",
       "      <td>1.000000</td>\n",
       "      <td>0.000000</td>\n",
       "      <td>2.000000</td>\n",
       "    </tr>\n",
       "    <tr>\n",
       "      <th>50%</th>\n",
       "      <td>512.000000</td>\n",
       "      <td>56.000000</td>\n",
       "      <td>1.000000</td>\n",
       "      <td>130.000000</td>\n",
       "      <td>240.00000</td>\n",
       "      <td>0.000000</td>\n",
       "      <td>1.000000</td>\n",
       "      <td>152.000000</td>\n",
       "      <td>0.000000</td>\n",
       "      <td>0.800000</td>\n",
       "      <td>1.000000</td>\n",
       "      <td>0.000000</td>\n",
       "      <td>2.000000</td>\n",
       "    </tr>\n",
       "    <tr>\n",
       "      <th>75%</th>\n",
       "      <td>768.000000</td>\n",
       "      <td>61.000000</td>\n",
       "      <td>2.000000</td>\n",
       "      <td>140.000000</td>\n",
       "      <td>275.00000</td>\n",
       "      <td>0.000000</td>\n",
       "      <td>1.000000</td>\n",
       "      <td>166.000000</td>\n",
       "      <td>1.000000</td>\n",
       "      <td>1.800000</td>\n",
       "      <td>2.000000</td>\n",
       "      <td>1.000000</td>\n",
       "      <td>3.000000</td>\n",
       "    </tr>\n",
       "    <tr>\n",
       "      <th>max</th>\n",
       "      <td>1024.000000</td>\n",
       "      <td>77.000000</td>\n",
       "      <td>3.000000</td>\n",
       "      <td>200.000000</td>\n",
       "      <td>564.00000</td>\n",
       "      <td>1.000000</td>\n",
       "      <td>2.000000</td>\n",
       "      <td>202.000000</td>\n",
       "      <td>1.000000</td>\n",
       "      <td>6.200000</td>\n",
       "      <td>2.000000</td>\n",
       "      <td>4.000000</td>\n",
       "      <td>3.000000</td>\n",
       "    </tr>\n",
       "  </tbody>\n",
       "</table>\n",
       "</div>"
      ],
      "text/plain": [
       "        Unnamed: 0          age           cp     trestbps        chol  \\\n",
       "count  1025.000000  1025.000000  1025.000000  1025.000000  1025.00000   \n",
       "mean    512.000000    54.434146     0.942439   131.611707   246.00000   \n",
       "std     296.036315     9.072290     1.029641    17.516718    51.59251   \n",
       "min       0.000000    29.000000     0.000000    94.000000   126.00000   \n",
       "25%     256.000000    48.000000     0.000000   120.000000   211.00000   \n",
       "50%     512.000000    56.000000     1.000000   130.000000   240.00000   \n",
       "75%     768.000000    61.000000     2.000000   140.000000   275.00000   \n",
       "max    1024.000000    77.000000     3.000000   200.000000   564.00000   \n",
       "\n",
       "               fbs      restecg      thalach        exang      oldpeak  \\\n",
       "count  1025.000000  1025.000000  1025.000000  1025.000000  1025.000000   \n",
       "mean      0.149268     0.529756   149.114146     0.336585     1.071512   \n",
       "std       0.356527     0.527878    23.005724     0.472772     1.175053   \n",
       "min       0.000000     0.000000    71.000000     0.000000     0.000000   \n",
       "25%       0.000000     0.000000   132.000000     0.000000     0.000000   \n",
       "50%       0.000000     1.000000   152.000000     0.000000     0.800000   \n",
       "75%       0.000000     1.000000   166.000000     1.000000     1.800000   \n",
       "max       1.000000     2.000000   202.000000     1.000000     6.200000   \n",
       "\n",
       "             slope           ca         thal  \n",
       "count  1025.000000  1025.000000  1025.000000  \n",
       "mean      1.385366     0.754146     2.323902  \n",
       "std       0.617755     1.030798     0.620660  \n",
       "min       0.000000     0.000000     0.000000  \n",
       "25%       1.000000     0.000000     2.000000  \n",
       "50%       1.000000     0.000000     2.000000  \n",
       "75%       2.000000     1.000000     3.000000  \n",
       "max       2.000000     4.000000     3.000000  "
      ]
     },
     "execution_count": 608,
     "metadata": {},
     "output_type": "execute_result"
    }
   ],
   "source": [
    "dataset.describe()"
   ]
  },
  {
   "cell_type": "markdown",
   "id": "830f45b6-aa06-491f-94cd-58e890bc5d55",
   "metadata": {},
   "source": [
    "## 3. Now we can begin with data pre processing part."
   ]
  },
  {
   "cell_type": "markdown",
   "id": "5a73a8f5-9883-4d16-b24d-bdc45bfd90e2",
   "metadata": {},
   "source": [
    "### 3.1. Handling of missing data in the dataframe."
   ]
  },
  {
   "cell_type": "code",
   "execution_count": 612,
   "id": "16db43aa-703e-4a5d-a0c9-733b7ae27865",
   "metadata": {},
   "outputs": [
    {
     "name": "stdout",
     "output_type": "stream",
     "text": [
      "Female      1018\n",
      "Male        1018\n",
      "age         1018\n",
      "cp          1018\n",
      "trestbps    1018\n",
      "chol        1018\n",
      "fbs         1018\n",
      "restecg     1018\n",
      "thalach     1018\n",
      "exang       1018\n",
      "oldpeak     1018\n",
      "slope       1018\n",
      "ca          1018\n",
      "thal        1018\n",
      "target      1018\n",
      "dtype: int64\n"
     ]
    }
   ],
   "source": [
    "#finding missing values\n",
    "dataset.isna().count()\n",
    "print(d1)\n",
    "\n",
    "#no null values so no need to handle or else we can use Imputer to handle it."
   ]
  },
  {
   "cell_type": "markdown",
   "id": "3ac43de0-deda-4909-8924-53a880506ca8",
   "metadata": {},
   "source": [
    "### 3.2. Handling erroneous data:"
   ]
  },
  {
   "cell_type": "code",
   "execution_count": 615,
   "id": "67db10e9-71ba-42f1-a34d-3fa339274912",
   "metadata": {},
   "outputs": [
    {
     "data": {
      "text/plain": [
       "Index(['unnamed: 0', 'age', 'sex', 'cp', 'trestbps', 'chol', 'fbs', 'restecg',\n",
       "       'thalach', 'exang', 'oldpeak', 'slope', 'ca', 'thal', 'target'],\n",
       "      dtype='object')"
      ]
     },
     "execution_count": 615,
     "metadata": {},
     "output_type": "execute_result"
    }
   ],
   "source": [
    "dataset.drop_duplicates()\n",
    "dataset.columns.str.strip().str.lower()"
   ]
  },
  {
   "cell_type": "markdown",
   "id": "b6646e7a-cc2d-46cb-bb39-a3f3fcb77cbe",
   "metadata": {},
   "source": [
    "### 3.3. Gathering insight from category Sex."
   ]
  },
  {
   "cell_type": "code",
   "execution_count": 618,
   "id": "5be7d5f7-49f6-491b-b6d5-7578b4b4f80d",
   "metadata": {},
   "outputs": [
    {
     "name": "stdout",
     "output_type": "stream",
     "text": [
      "Total Male Have Heart disease: 300\n",
      "Total Male with no Heart disease: 413\n",
      "Total female with Heart disease: 226\n",
      "Total Female with no Heart disease: 86\n"
     ]
    }
   ],
   "source": [
    "#Finding Total Male With Heart disease:\n",
    "total_male_heart_disease=0\n",
    "for rows in range(len(dataset)):\n",
    "  if dataset.loc[rows,\"sex\"] =='Male' and dataset.loc[rows,\"target\"] == 'Presence':\n",
    "    total_male_heart_disease = total_male_heart_disease + 1\n",
    "\n",
    "print(\"Total Male Have Heart disease:\",total_male_heart_disease)\n",
    "\n",
    "#Finding Total Male Without Heart disease:\n",
    "total_male_no_heart_disease=0\n",
    "for rows in range(len(dataset)):\n",
    "  if dataset.loc[rows,\"sex\"] =='Male' and dataset.loc[rows,\"target\"] == 'Absence':\n",
    "    total_male_no_heart_disease = total_male_no_heart_disease + 1\n",
    "\n",
    "print(\"Total Male with no Heart disease:\",total_male_no_heart_disease)\n",
    "\n",
    "#Finding Total Female With Heart disease:\n",
    "total_female_heart_disease=0\n",
    "for rows in range(len(dataset)):\n",
    "  if dataset.loc[rows,\"sex\"] =='Female' and dataset.loc[rows,\"target\"] == 'Presence':\n",
    "    total_female_heart_disease = total_female_heart_disease + 1\n",
    "\n",
    "print(\"Total female with Heart disease:\",total_female_heart_disease)\n",
    "\n",
    "#Finding Total Female Without Heart disease:\n",
    "total_female_no_heart_disease=0\n",
    "for rows in range(len(dataset)):\n",
    "  if dataset.loc[rows,\"sex\"] =='Female' and dataset.loc[rows,\"target\"] == 'Absence':\n",
    "    total_female_no_heart_disease = total_female_no_heart_disease + 1\n",
    "\n",
    "print(\"Total Female with no Heart disease:\",total_female_no_heart_disease)"
   ]
  },
  {
   "cell_type": "markdown",
   "id": "3ed48cd9-b127-4965-a0f6-2fa73dc18252",
   "metadata": {},
   "source": [
    "### 3.4. Identifying output values."
   ]
  },
  {
   "cell_type": "code",
   "execution_count": 621,
   "id": "43852161-b74f-48bc-a71c-04f96a0beeb9",
   "metadata": {},
   "outputs": [
    {
     "data": {
      "text/plain": [
       "target\n",
       "Presence    526\n",
       "Absence     499\n",
       "Name: count, dtype: int64"
      ]
     },
     "execution_count": 621,
     "metadata": {},
     "output_type": "execute_result"
    }
   ],
   "source": [
    "dataset[\"target\"].value_counts()"
   ]
  },
  {
   "cell_type": "markdown",
   "id": "57bdb79a-bf9a-4f9c-b8bf-b5bcec7bc6d3",
   "metadata": {},
   "source": [
    "### 3.5. Handling of categorical Data i.e. Sex and Target that we already analysed"
   ]
  },
  {
   "cell_type": "markdown",
   "id": "5e91251e-515f-48be-9850-41f7e11b87c3",
   "metadata": {},
   "source": [
    "#### A. Handling sex category."
   ]
  },
  {
   "cell_type": "code",
   "execution_count": 625,
   "id": "3a859a3e-4956-4a01-8180-acbe2bdd6563",
   "metadata": {},
   "outputs": [
    {
     "name": "stdout",
     "output_type": "stream",
     "text": [
      "Handling of Sex Categorical Data\n",
      "      Female   Male\n",
      "0      False   True\n",
      "1      False   True\n",
      "2      False   True\n",
      "3      False   True\n",
      "4       True  False\n",
      "...      ...    ...\n",
      "1020   False   True\n",
      "1021   False   True\n",
      "1022   False   True\n",
      "1023    True  False\n",
      "1024   False   True\n",
      "\n",
      "[1025 rows x 2 columns]\n",
      "      Female   Male  age  cp  trestbps  chol  fbs  restecg  thalach  exang  \\\n",
      "0      False   True   52   0       125   212    0        1      168      0   \n",
      "1      False   True   53   0       140   203    1        0      155      1   \n",
      "2      False   True   70   0       145   174    0        1      125      1   \n",
      "3      False   True   61   0       148   203    0        1      161      0   \n",
      "4       True  False   62   0       138   294    1        1      106      0   \n",
      "...      ...    ...  ...  ..       ...   ...  ...      ...      ...    ...   \n",
      "1020   False   True   59   1       140   221    0        1      164      1   \n",
      "1021   False   True   60   0       125   258    0        0      141      1   \n",
      "1022   False   True   47   0       110   275    0        0      118      1   \n",
      "1023    True  False   50   0       110   254    0        0      159      0   \n",
      "1024   False   True   54   0       120   188    0        1      113      0   \n",
      "\n",
      "      oldpeak  slope  ca  thal    target  \n",
      "0         1.0      2   2     3   Absence  \n",
      "1         3.1      0   0     3   Absence  \n",
      "2         2.6      0   0     3   Absence  \n",
      "3         0.0      2   1     3   Absence  \n",
      "4         1.9      1   3     2   Absence  \n",
      "...       ...    ...  ..   ...       ...  \n",
      "1020      0.0      2   0     2  Presence  \n",
      "1021      2.8      1   1     3   Absence  \n",
      "1022      1.0      1   1     2   Absence  \n",
      "1023      0.0      2   0     2  Presence  \n",
      "1024      1.4      1   1     3   Absence  \n",
      "\n",
      "[1025 rows x 15 columns]\n"
     ]
    }
   ],
   "source": [
    "print(\"Handling of Sex Categorical Data\")\n",
    "\n",
    "df1=pd.get_dummies(dataset['sex'])\n",
    "dataset=pd.concat([df1,dataset],axis=1)\n",
    "dataset.drop('sex',axis=1,inplace=True)\n",
    "dataset.drop('Unnamed: 0',axis=1,inplace=True)\n",
    "\n",
    "print(df1)\n",
    "print(dataset)\n"
   ]
  },
  {
   "cell_type": "markdown",
   "id": "06aeb3af-c34d-49e7-b032-8c68b610f39d",
   "metadata": {},
   "source": [
    "### B. Handling target category by lable encoding."
   ]
  },
  {
   "cell_type": "code",
   "execution_count": 628,
   "id": "a535254b-37a2-4600-b249-b9a16469f34a",
   "metadata": {},
   "outputs": [
    {
     "data": {
      "text/plain": [
       "0       0\n",
       "1       0\n",
       "2       0\n",
       "3       0\n",
       "4       0\n",
       "       ..\n",
       "1020    1\n",
       "1021    0\n",
       "1022    0\n",
       "1023    1\n",
       "1024    0\n",
       "Name: target, Length: 1025, dtype: int64"
      ]
     },
     "execution_count": 628,
     "metadata": {},
     "output_type": "execute_result"
    }
   ],
   "source": [
    "dataset['target'] = dataset['target'].map( {'Presence':1 ,'Absence':0})\n",
    "dataset['target']\n"
   ]
  },
  {
   "cell_type": "markdown",
   "id": "aa6edae1-ae9c-4ec0-b28b-b34ebc75cc25",
   "metadata": {},
   "source": [
    "### 3.6. Outliers Handling in dataframe:"
   ]
  },
  {
   "cell_type": "code",
   "execution_count": 631,
   "id": "d50a35c1-08bb-4e0f-8f28-aaab1e5c6c9a",
   "metadata": {},
   "outputs": [
    {
     "name": "stdout",
     "output_type": "stream",
     "text": [
      "Outliers Handling in Dataframe\n",
      "The Minimum Age Possible is: 29.0\n",
      "The Maximum Age Possible is: 77.0\n"
     ]
    },
    {
     "data": {
      "text/html": [
       "<div>\n",
       "<style scoped>\n",
       "    .dataframe tbody tr th:only-of-type {\n",
       "        vertical-align: middle;\n",
       "    }\n",
       "\n",
       "    .dataframe tbody tr th {\n",
       "        vertical-align: top;\n",
       "    }\n",
       "\n",
       "    .dataframe thead th {\n",
       "        text-align: right;\n",
       "    }\n",
       "</style>\n",
       "<table border=\"1\" class=\"dataframe\">\n",
       "  <thead>\n",
       "    <tr style=\"text-align: right;\">\n",
       "      <th></th>\n",
       "      <th>Female</th>\n",
       "      <th>Male</th>\n",
       "      <th>age</th>\n",
       "      <th>cp</th>\n",
       "      <th>trestbps</th>\n",
       "      <th>chol</th>\n",
       "      <th>fbs</th>\n",
       "      <th>restecg</th>\n",
       "      <th>thalach</th>\n",
       "      <th>exang</th>\n",
       "      <th>oldpeak</th>\n",
       "      <th>slope</th>\n",
       "      <th>ca</th>\n",
       "      <th>thal</th>\n",
       "      <th>target</th>\n",
       "    </tr>\n",
       "  </thead>\n",
       "  <tbody>\n",
       "    <tr>\n",
       "      <th>0</th>\n",
       "      <td>False</td>\n",
       "      <td>True</td>\n",
       "      <td>52</td>\n",
       "      <td>0</td>\n",
       "      <td>125</td>\n",
       "      <td>212</td>\n",
       "      <td>0</td>\n",
       "      <td>1</td>\n",
       "      <td>168</td>\n",
       "      <td>0</td>\n",
       "      <td>1.0</td>\n",
       "      <td>2</td>\n",
       "      <td>2</td>\n",
       "      <td>3</td>\n",
       "      <td>0</td>\n",
       "    </tr>\n",
       "    <tr>\n",
       "      <th>1</th>\n",
       "      <td>False</td>\n",
       "      <td>True</td>\n",
       "      <td>53</td>\n",
       "      <td>0</td>\n",
       "      <td>140</td>\n",
       "      <td>203</td>\n",
       "      <td>1</td>\n",
       "      <td>0</td>\n",
       "      <td>155</td>\n",
       "      <td>1</td>\n",
       "      <td>3.1</td>\n",
       "      <td>0</td>\n",
       "      <td>0</td>\n",
       "      <td>3</td>\n",
       "      <td>0</td>\n",
       "    </tr>\n",
       "    <tr>\n",
       "      <th>2</th>\n",
       "      <td>False</td>\n",
       "      <td>True</td>\n",
       "      <td>70</td>\n",
       "      <td>0</td>\n",
       "      <td>145</td>\n",
       "      <td>174</td>\n",
       "      <td>0</td>\n",
       "      <td>1</td>\n",
       "      <td>125</td>\n",
       "      <td>1</td>\n",
       "      <td>2.6</td>\n",
       "      <td>0</td>\n",
       "      <td>0</td>\n",
       "      <td>3</td>\n",
       "      <td>0</td>\n",
       "    </tr>\n",
       "    <tr>\n",
       "      <th>3</th>\n",
       "      <td>False</td>\n",
       "      <td>True</td>\n",
       "      <td>61</td>\n",
       "      <td>0</td>\n",
       "      <td>148</td>\n",
       "      <td>203</td>\n",
       "      <td>0</td>\n",
       "      <td>1</td>\n",
       "      <td>161</td>\n",
       "      <td>0</td>\n",
       "      <td>0.0</td>\n",
       "      <td>2</td>\n",
       "      <td>1</td>\n",
       "      <td>3</td>\n",
       "      <td>0</td>\n",
       "    </tr>\n",
       "    <tr>\n",
       "      <th>4</th>\n",
       "      <td>True</td>\n",
       "      <td>False</td>\n",
       "      <td>62</td>\n",
       "      <td>0</td>\n",
       "      <td>138</td>\n",
       "      <td>294</td>\n",
       "      <td>1</td>\n",
       "      <td>1</td>\n",
       "      <td>106</td>\n",
       "      <td>0</td>\n",
       "      <td>1.9</td>\n",
       "      <td>1</td>\n",
       "      <td>3</td>\n",
       "      <td>2</td>\n",
       "      <td>0</td>\n",
       "    </tr>\n",
       "    <tr>\n",
       "      <th>5</th>\n",
       "      <td>True</td>\n",
       "      <td>False</td>\n",
       "      <td>58</td>\n",
       "      <td>0</td>\n",
       "      <td>100</td>\n",
       "      <td>248</td>\n",
       "      <td>0</td>\n",
       "      <td>0</td>\n",
       "      <td>122</td>\n",
       "      <td>0</td>\n",
       "      <td>1.0</td>\n",
       "      <td>1</td>\n",
       "      <td>0</td>\n",
       "      <td>2</td>\n",
       "      <td>1</td>\n",
       "    </tr>\n",
       "    <tr>\n",
       "      <th>6</th>\n",
       "      <td>False</td>\n",
       "      <td>True</td>\n",
       "      <td>58</td>\n",
       "      <td>0</td>\n",
       "      <td>114</td>\n",
       "      <td>318</td>\n",
       "      <td>0</td>\n",
       "      <td>2</td>\n",
       "      <td>140</td>\n",
       "      <td>0</td>\n",
       "      <td>4.4</td>\n",
       "      <td>0</td>\n",
       "      <td>3</td>\n",
       "      <td>1</td>\n",
       "      <td>0</td>\n",
       "    </tr>\n",
       "    <tr>\n",
       "      <th>7</th>\n",
       "      <td>False</td>\n",
       "      <td>True</td>\n",
       "      <td>55</td>\n",
       "      <td>0</td>\n",
       "      <td>160</td>\n",
       "      <td>289</td>\n",
       "      <td>0</td>\n",
       "      <td>0</td>\n",
       "      <td>145</td>\n",
       "      <td>1</td>\n",
       "      <td>0.8</td>\n",
       "      <td>1</td>\n",
       "      <td>1</td>\n",
       "      <td>3</td>\n",
       "      <td>0</td>\n",
       "    </tr>\n",
       "    <tr>\n",
       "      <th>8</th>\n",
       "      <td>False</td>\n",
       "      <td>True</td>\n",
       "      <td>46</td>\n",
       "      <td>0</td>\n",
       "      <td>120</td>\n",
       "      <td>249</td>\n",
       "      <td>0</td>\n",
       "      <td>0</td>\n",
       "      <td>144</td>\n",
       "      <td>0</td>\n",
       "      <td>0.8</td>\n",
       "      <td>2</td>\n",
       "      <td>0</td>\n",
       "      <td>3</td>\n",
       "      <td>0</td>\n",
       "    </tr>\n",
       "    <tr>\n",
       "      <th>9</th>\n",
       "      <td>False</td>\n",
       "      <td>True</td>\n",
       "      <td>54</td>\n",
       "      <td>0</td>\n",
       "      <td>122</td>\n",
       "      <td>286</td>\n",
       "      <td>0</td>\n",
       "      <td>0</td>\n",
       "      <td>116</td>\n",
       "      <td>1</td>\n",
       "      <td>3.2</td>\n",
       "      <td>1</td>\n",
       "      <td>2</td>\n",
       "      <td>2</td>\n",
       "      <td>0</td>\n",
       "    </tr>\n",
       "  </tbody>\n",
       "</table>\n",
       "</div>"
      ],
      "text/plain": [
       "   Female   Male  age  cp  trestbps  chol  fbs  restecg  thalach  exang  \\\n",
       "0   False   True   52   0       125   212    0        1      168      0   \n",
       "1   False   True   53   0       140   203    1        0      155      1   \n",
       "2   False   True   70   0       145   174    0        1      125      1   \n",
       "3   False   True   61   0       148   203    0        1      161      0   \n",
       "4    True  False   62   0       138   294    1        1      106      0   \n",
       "5    True  False   58   0       100   248    0        0      122      0   \n",
       "6   False   True   58   0       114   318    0        2      140      0   \n",
       "7   False   True   55   0       160   289    0        0      145      1   \n",
       "8   False   True   46   0       120   249    0        0      144      0   \n",
       "9   False   True   54   0       122   286    0        0      116      1   \n",
       "\n",
       "   oldpeak  slope  ca  thal  target  \n",
       "0      1.0      2   2     3       0  \n",
       "1      3.1      0   0     3       0  \n",
       "2      2.6      0   0     3       0  \n",
       "3      0.0      2   1     3       0  \n",
       "4      1.9      1   3     2       0  \n",
       "5      1.0      1   0     2       1  \n",
       "6      4.4      0   3     1       0  \n",
       "7      0.8      1   1     3       0  \n",
       "8      0.8      2   0     3       0  \n",
       "9      3.2      1   2     2       0  "
      ]
     },
     "execution_count": 631,
     "metadata": {},
     "output_type": "execute_result"
    }
   ],
   "source": [
    "#identifying the Outliers parameter\n",
    "print(\"Outliers Handling in Dataframe\")\n",
    "min_Age=dataset.age.quantile(0.001)\n",
    "print('The Minimum Age Possible is:',min_Age)\n",
    "\n",
    "max_Age=dataset.age.quantile(0.999)\n",
    "print('The Maximum Age Possible is:',max_Age)\n",
    "\n",
    "\n",
    "#removing the outliers:\n",
    "#df2 is new dataset generated after removing the outliers:\n",
    "dataset=dataset[(dataset.age>min_Age) & (dataset.age<max_Age)]\n",
    "dataset.head(10)"
   ]
  },
  {
   "cell_type": "markdown",
   "id": "9af1bbc5-f0fb-4c99-98a5-d89b8d2971e4",
   "metadata": {},
   "source": [
    "### 3.7. Normalization of data in the dataframe:"
   ]
  },
  {
   "cell_type": "code",
   "execution_count": 634,
   "id": "c089a061-6954-4082-a435-eea1dc5f22be",
   "metadata": {},
   "outputs": [
    {
     "name": "stdout",
     "output_type": "stream",
     "text": [
      "Normalizing the Dataframe\n",
      "      Female   Male  age  cp  trestbps  chol  fbs  restecg  thalach  exang  \\\n",
      "0      False   True   52   0       125   212    0        1      168      0   \n",
      "1      False   True   53   0       140   203    1        0      155      1   \n",
      "2      False   True   70   0       145   174    0        1      125      1   \n",
      "3      False   True   61   0       148   203    0        1      161      0   \n",
      "4       True  False   62   0       138   294    1        1      106      0   \n",
      "...      ...    ...  ...  ..       ...   ...  ...      ...      ...    ...   \n",
      "1020   False   True   59   1       140   221    0        1      164      1   \n",
      "1021   False   True   60   0       125   258    0        0      141      1   \n",
      "1022   False   True   47   0       110   275    0        0      118      1   \n",
      "1023    True  False   50   0       110   254    0        0      159      0   \n",
      "1024   False   True   54   0       120   188    0        1      113      0   \n",
      "\n",
      "      oldpeak  slope  ca  thal  target  \n",
      "0         1.0      2   2     3       0  \n",
      "1         3.1      0   0     3       0  \n",
      "2         2.6      0   0     3       0  \n",
      "3         0.0      2   1     3       0  \n",
      "4         1.9      1   3     2       0  \n",
      "...       ...    ...  ..   ...     ...  \n",
      "1020      0.0      2   0     2       1  \n",
      "1021      2.8      1   1     3       0  \n",
      "1022      1.0      1   1     2       0  \n",
      "1023      0.0      2   0     2       1  \n",
      "1024      1.4      1   1     3       0  \n",
      "\n",
      "[1018 rows x 15 columns]\n"
     ]
    }
   ],
   "source": [
    "print(\"Normalizing the Dataframe\")\n",
    "for column in dataset:\n",
    "  datatypes=dataset.dtypes[column]\n",
    "  if datatypes==int:\n",
    "    dataset[column] = dataset[column] / dataset[column].abs().max()\n",
    "# view normalized data:\n",
    "print(dataset)"
   ]
  },
  {
   "cell_type": "code",
   "execution_count": 636,
   "id": "2f0d3710-3932-42a0-9f70-addb3998c3af",
   "metadata": {},
   "outputs": [],
   "source": [
    "#saving the updates dataset\n",
    "dataset.to_csv(\"C:/Users/briti/Downloads/HeartDiseaseNew.csv\")"
   ]
  },
  {
   "cell_type": "markdown",
   "id": "9a15cfb3-1c4c-43e6-bb71-69449f73963a",
   "metadata": {},
   "source": [
    "## 4. Visualizing the dataframe using graphical representation:"
   ]
  },
  {
   "cell_type": "code",
   "execution_count": 639,
   "id": "6ea33eb4-eba7-4ff3-b778-bcbf435f102b",
   "metadata": {},
   "outputs": [
    {
     "data": {
      "image/png": "[encoded data removed]",
      "text/plain": [
       "<Figure size 640x480 with 1 Axes>"
      ]
     },
     "metadata": {},
     "output_type": "display_data"
    },
    {
     "data": {
      "image/png": "[encoded data removed]",
      "text/plain": [
       "<Figure size 640x480 with 1 Axes>"
      ]
     },
     "metadata": {},
     "output_type": "display_data"
    },
    {
     "data": {
      "image/png": "[encoded data removed]",
      "text/plain": [
       "<Figure size 640x480 with 1 Axes>"
      ]
     },
     "metadata": {},
     "output_type": "display_data"
    },
    {
     "data": {
      "image/png": "[encoded data removed]",
      "text/plain": [
       "<Figure size 640x480 with 1 Axes>"
      ]
     },
     "metadata": {},
     "output_type": "display_data"
    }
   ],
   "source": [
    "#Pie chart to study Dataframe:\n",
    "\n",
    "y = np.array([total_male_heart_disease, total_male_no_heart_disease,total_female_heart_disease, total_female_no_heart_disease])\n",
    "mylabels = [\"Male_with_disease\", \"Male_Without_disease\", \"Female_with_disease\", \"Female_without_disease\"]\n",
    "plt.title(\"Pie chart to show Categorical Data\")\n",
    "plt.pie(y,labels= mylabels)\n",
    "plt.show()\n",
    "\n",
    "#Bar Graph to Study Datarame\n",
    "y = np.array([total_male_heart_disease,total_female_heart_disease])\n",
    "x = np.array(['Male','Female'])\n",
    "plt.title('Bar Graph for tatol cases of heart disease')\n",
    "plt.bar(x,y,color=\"Green\")\n",
    "plt.show()\n",
    "\n",
    "y = np.array([total_male_no_heart_disease,total_female_no_heart_disease])\n",
    "x = np.array(['Male','Female'])\n",
    "plt.title('Bar Graph for tatol cases of No heart disease')\n",
    "plt.bar(x,y,color=\"blue\")\n",
    "plt.show()\n",
    "\n",
    "#Histogram to show Total Presence and Absence of Heart disease\n",
    "y = np.array(dataset[\"target\"])\n",
    "plt.title(\"Histogram to show Total Presence and Absence of Heart disease\")\n",
    "plt.hist(y, bins=10)\n",
    "plt.show()"
   ]
  },
  {
   "cell_type": "code",
   "execution_count": null,
   "id": "99b2f278-6d48-43ae-97db-3adb0145aef9",
   "metadata": {},
   "outputs": [],
   "source": []
  },
  {
   "cell_type": "code",
   "execution_count": null,
   "id": "fcae1e51-6766-4831-9f17-f2340b870d3e",
   "metadata": {},
   "outputs": [],
   "source": []
  },
  {
   "cell_type": "code",
   "execution_count": null,
   "id": "e931e1cb-a6da-46c9-9cc8-1e121082feb8",
   "metadata": {},
   "outputs": [],
   "source": []
  },
  {
   "cell_type": "code",
   "execution_count": null,
   "id": "544d594e-411d-4a5d-a440-9ea71027260c",
   "metadata": {},
   "outputs": [],
   "source": []
  }
 ],
 "metadata": {
  "kernelspec": {
   "display_name": "Python [conda env:base] *",
   "language": "python",
   "name": "conda-base-py"
  },
  "language_info": {
   "codemirror_mode": {
    "name": "ipython",
    "version": 3
   },
   "file_extension": ".py",
   "mimetype": "text/x-python",
   "name": "python",
   "nbconvert_exporter": "python",
   "pygments_lexer": "ipython3",
   "version": "3.12.7"
  }
 },
 "nbformat": 4,
 "nbformat_minor": 5
}
